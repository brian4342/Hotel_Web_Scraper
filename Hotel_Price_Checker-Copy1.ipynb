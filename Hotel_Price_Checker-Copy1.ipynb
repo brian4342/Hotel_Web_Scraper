{
 "cells": [
  {
   "cell_type": "markdown",
   "metadata": {},
   "source": [
    "### Import Libraries"
   ]
  },
  {
   "cell_type": "code",
   "execution_count": null,
   "metadata": {},
   "outputs": [],
   "source": [
    "# Libraries\n",
    "import pandas as pd\n",
    "import numpy as np\n",
    "from datetime import date\n",
    "import warnings\n",
    "warnings.filterwarnings(\"ignore\")\n",
    "import mysql.connector\n",
    "from sqlalchemy import create_engine\n",
    "from selenium import webdriver\n",
    "from selenium.webdriver.chrome.options import Options\n",
    "import matplotlib.pyplot as plt"
   ]
  },
  {
   "cell_type": "code",
   "execution_count": null,
   "metadata": {},
   "outputs": [],
   "source": [
    "# Set Up Selenium\n",
    "from selenium import webdriver\n",
    "from selenium.webdriver.chrome.options import Options\n",
    "\n",
    "options = Options()\n",
    "options.add_argument('--headless')\n",
    "options.add_argument('--no-sandbox')\n",
    "options.add_argument('start-maximized')\n",
    "options.add_argument('disable-infobars')\n",
    "options.add_argument(\"--disable-extensions\")\n",
    "\n",
    "prefs = {\"profile.managed_default_content_settings.images\": 2}\n",
    "options.add_experimental_option(\"prefs\", prefs)\n",
    "\n",
    "driver = webdriver.Chrome('/usr/local/bin/chromedriver', options=options)\n",
    "\n",
    "timeout = 3"
   ]
  },
  {
   "cell_type": "markdown",
   "metadata": {},
   "source": [
    "### Get Data"
   ]
  },
  {
   "cell_type": "code",
   "execution_count": null,
   "metadata": {},
   "outputs": [],
   "source": [
    "# Database connection\n",
    "cnx = mysql.connector.connect(user='admin',  password='password',\n",
    "                              host='db-instance.rds.amazonaws.com',\n",
    "                              port= 3306,\n",
    "                              database='My_DB',\n",
    "                              use_unicode=True)\n",
    "                              \n",
    "cursor=cnx.cursor(buffered=True)\n",
    "engine = create_engine('mysql+mysqlconnector://{0}:{1}@{2}/{3}'.\n",
    "                                               format('admin', 'password', \n",
    "                                                      'db-instance.rds.amazonaws.com:3306', 'My_DB'))\n",
    "# Get Booked Hotel Data\n",
    "sql = \"SELECT * FROM My_DB.Hotel_Booked_DB;\"\n",
    "HotelBookedDF = pd.read_sql(sql, con=cnx)\n",
    "HotelBookedDF = HotelBookedDF.sort_values('Current',ascending=True)\n",
    "\n",
    "# Get Hotel Data\n",
    "sql = \"SELECT * FROM My_DB.Hotel_DB;\"\n",
    "HotelDF = pd.read_sql(sql, con=cnx)\n",
    "HotelDF.drop('ID', axis=1, inplace=True)\n",
    "HotelDF.head(2)"
   ]
  },
  {
   "cell_type": "code",
   "execution_count": null,
   "metadata": {
    "scrolled": false
   },
   "outputs": [],
   "source": [
    "# Download Hotel Prices\n",
    "HotelDF['Price'] = 0\n",
    "for index in range(0,len(HotelDF)):\n",
    "    try:\n",
    "        URL = \"https://www.booking.com/hotel/us/\" + HotelDF['Hotel_ID'][index] + \".en-gb.html?aid=304142;checkin=2020-12-25;checkout=2020-12-30;dest_id=20088325;dest_type=city;dist=0;group_adults=2;group_children=0; no_rooms=1;room1=A%2CA;sb_price_type=total;type=total;ucfs=1&\"\n",
    "\n",
    "        driver.get(URL)\n",
    "        Prices = driver.find_elements_by_class_name('hprt-table')[0].find_elements_by_class_name('per-night-tt-total-price')\n",
    "        Conditions = driver.find_elements_by_class_name('hprt-table')[0].find_elements_by_class_name('hprt-conditions')\n",
    "\n",
    "        for index2 in range(0,len(Prices)):\n",
    "            if 'Non-refundable' in Conditions[index2].get_attribute('innerHTML'):\n",
    "                HotelDF['Price'].loc[index] = None\n",
    "            else:\n",
    "                HotelDF['Price'].loc[index] = Prices[index2].get_attribute('innerHTML').replace('£', '').replace(',', '')\n",
    "                break\n",
    "    except:\n",
    "        print(\"Full: \" + HotelDF['Hotel_Name'][index])\n",
    "    print(str(index) + \"/\" + str(len(HotelDF)) + \"                      \", end='\\r')\n",
    "\n",
    "# View Results\n",
    "HotelDF['Price'] = pd.to_numeric(HotelDF['Price']) \n",
    "HotelDF['Price'].replace(0, np.nan, inplace=True)\n",
    "HotelDF = HotelDF.sort_values('Price',ascending=True)\n",
    "HotelDF.reset_index(drop=True, inplace=True)       \n",
    "HotelDF.head()    "
   ]
  },
  {
   "cell_type": "markdown",
   "metadata": {},
   "source": [
    "### Upload Results"
   ]
  },
  {
   "cell_type": "code",
   "execution_count": null,
   "metadata": {},
   "outputs": [],
   "source": [
    "# Save Results to DB\n",
    "resultsDF = HotelDF[['Hotel_ID', 'Price']]\n",
    "resultsDF['Date'] = str(date.today())\n",
    "resultsDF.to_sql(con=engine, name='Hotel_Prices_DB', if_exists='append',index=False)"
   ]
  },
  {
   "cell_type": "markdown",
   "metadata": {},
   "source": [
    "### Send Notifications"
   ]
  },
  {
   "cell_type": "code",
   "execution_count": null,
   "metadata": {},
   "outputs": [],
   "source": [
    "# Set up email config\n",
    "import smtplib\n",
    "\n",
    "s = smtplib.SMTP('smtp.email.com', 587) # Define Server\n",
    "s.starttls() # Start TLS\n",
    "s.login(\"email\", \"password\") # Log in to server\n",
    "\n",
    "# Send Email IF cheap price\n",
    "if HotelDF['Price'][0] < HotelBookedDF['Price'][0]:\n",
    "    # found a cheaper hotel\n",
    "    message = \"Cheaper Hotel found: \\n Current hotel price: £\" + str(HotelBookedDF['Price'][0]) +\" \\n \" +\\\n",
    "              \"New hotel price: £\" + str(HotelDF['Price'][0]) + \"\\n\" +\\\n",
    "              \"Hotel: \" + HotelDF['Hotel_Name'][0] + \"\\n\" +\\\n",
    "              \"URL: \" + HotelDF['Hotel_URL'][0]\n",
    "    \n",
    "    parts = (\"From: \" + 'email',\n",
    "         \"To: \" + 'email',\n",
    "         \"Subject: \" + \"Hotel Prices API\",\n",
    "         \"\",\n",
    "         message)    \n",
    "    msg = '\\r\\n'.join(parts).encode('ascii', 'ignore')\n",
    "    \n",
    "    # Send email\n",
    "    s.sendmail(\"email\", \"email\", msg)\n",
    "    "
   ]
  },
  {
   "cell_type": "markdown",
   "metadata": {},
   "source": [
    "## Visualisations"
   ]
  },
  {
   "cell_type": "code",
   "execution_count": null,
   "metadata": {},
   "outputs": [],
   "source": [
    "# Get Hotel Data\n",
    "sql = \"SELECT * FROM My_DB.Hotel_Prices_DB;\"\n",
    "HotelPriceDF = pd.read_sql(sql, con=cnx)\n",
    "\n",
    "# Convert date type\n",
    "HotelPriceDF['Date'] =  pd.to_datetime(HotelPriceDF['Date'], format=\"%Y/%m/%d\")\n",
    "\n",
    "# Replace NaN values\n",
    "HotelPriceDF = HotelPriceDF.fillna(0)\n",
    "\n",
    "# Set Date as Index\n",
    "HotelPriceDF = HotelPriceDF.set_index('Date')\n",
    "\n",
    "# Visualise\n",
    "plt.figure(figsize=(20,15))\n",
    "HotelPriceDF.groupby('Hotel_ID')['Price'].plot()\n",
    "plt.title(\"Hotel Prices\", fontdict={'fontsize': 19, 'fontweight':0.5 })\n",
    "plt.xlabel(\"Date\", fontdict={'fontsize': 15})\n",
    "plt.ylabel(\"Price (£)\", fontdict={'fontsize': 15})\n",
    "plt.gca().legend((HotelPriceDF['Hotel_ID']), bbox_to_anchor=(1.0, 1.0))\n",
    "plt.show()"
   ]
  }
 ],
 "metadata": {
  "kernelspec": {
   "display_name": "Python 3",
   "language": "python",
   "name": "python3"
  },
  "language_info": {
   "codemirror_mode": {
    "name": "ipython",
    "version": 3
   },
   "file_extension": ".py",
   "mimetype": "text/x-python",
   "name": "python",
   "nbconvert_exporter": "python",
   "pygments_lexer": "ipython3",
   "version": "3.7.3"
  }
 },
 "nbformat": 4,
 "nbformat_minor": 2
}
